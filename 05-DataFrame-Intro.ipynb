{
 "cells": [
  {
   "cell_type": "code",
   "execution_count": 22,
   "id": "68a6d7a7-693c-4fae-804f-3d92a1a30e35",
   "metadata": {},
   "outputs": [],
   "source": [
    "# Set the PySpark environment variables\n",
    "import os\n",
    "os.environ['SPARK_HOME'] = \"/usr/local/spark\"\n",
    "os.environ['PYSPARK_DRIVER_PYTHON'] = 'jupyter'\n",
    "os.environ['PYSPARK_DRIVER_PYTHON_OPTS'] = 'lab'\n",
    "os.environ['PYSPARK_PYTHON'] = 'python'"
   ]
  },
  {
   "cell_type": "code",
   "execution_count": 23,
   "id": "b9cb5875-598a-4d74-be55-3795530d9206",
   "metadata": {},
   "outputs": [],
   "source": [
    "from pyspark.sql import SparkSession\n",
    "from pyspark.sql.functions import desc"
   ]
  },
  {
   "cell_type": "code",
   "execution_count": 24,
   "id": "afd73f68-a07d-47df-952e-38f0e681320c",
   "metadata": {},
   "outputs": [],
   "source": [
    "# Create a SparkSession\n",
    "spark = SparkSession.builder.appName(\"DataFrame-Demo\").getOrCreate()"
   ]
  },
  {
   "cell_type": "markdown",
   "id": "3b294de5-c4a9-4f03-8dbc-ee29caaf0b99",
   "metadata": {},
   "source": [
    "### Using RDDs"
   ]
  },
  {
   "cell_type": "code",
   "execution_count": 25,
   "id": "97c0daf5-9971-4e48-ae98-fc090a4edf14",
   "metadata": {},
   "outputs": [],
   "source": [
    "rdd = spark.sparkContext.textFile(\"file:///home/bms/data.txt\")\n",
    "result_rdd = rdd.flatMap(lambda line: line.split(\" \")) \\\n",
    "    .map(lambda word: (word, 1)) \\\n",
    "    .reduceByKey(lambda a, b: a + b) \\\n",
    "    .sortBy(lambda x: x[1], ascending=False)"
   ]
  },
  {
   "cell_type": "code",
   "execution_count": 26,
   "id": "96f3a503-e709-4248-91cf-5a55a1ee3549",
   "metadata": {},
   "outputs": [
    {
     "data": {
      "text/plain": [
       "[('', 353),\n",
       " ('\\tat', 27),\n",
       " ('=', 12),\n",
       " ('in', 8),\n",
       " ('->', 8),\n",
       " ('File', 7),\n",
       " ('return', 5),\n",
       " ('\"\"\"', 4),\n",
       " ('partitionFunc)', 3),\n",
       " ('+\\\\', 3)]"
      ]
     },
     "execution_count": 26,
     "metadata": {},
     "output_type": "execute_result"
    }
   ],
   "source": [
    "result_rdd.take(10)"
   ]
  },
  {
   "cell_type": "markdown",
   "id": "a02b9bba-8a25-4e8e-aed9-edb6700b391b",
   "metadata": {},
   "source": [
    "### Using DataFrames"
   ]
  },
  {
   "cell_type": "code",
   "execution_count": 27,
   "id": "248e9131-53fb-4c39-b301-4d415dcc169d",
   "metadata": {},
   "outputs": [],
   "source": [
    "# df = spark.read.text(\"./data/data.txt\")\n",
    "df = spark.read.text(\"file:///home/bms/data.txt\")\n",
    "result_df = df.selectExpr(\"explode(split(value, ' ')) as word\") \\\n",
    "    .groupBy(\"word\").count().orderBy(desc(\"count\"))"
   ]
  },
  {
   "cell_type": "code",
   "execution_count": 28,
   "id": "18231aa3-f162-4261-9a65-275f088f1675",
   "metadata": {},
   "outputs": [
    {
     "data": {
      "text/plain": [
       "[Row(word='', count=353),\n",
       " Row(word='\\tat', count=27),\n",
       " Row(word='=', count=12),\n",
       " Row(word='in', count=8),\n",
       " Row(word='->', count=8),\n",
       " Row(word='File', count=7),\n",
       " Row(word='return', count=5),\n",
       " Row(word='\"\"\"', count=4),\n",
       " Row(word='func,', count=3),\n",
       " Row(word='partitionFunc)', count=3)]"
      ]
     },
     "execution_count": 28,
     "metadata": {},
     "output_type": "execute_result"
    }
   ],
   "source": [
    "result_df.take(10)"
   ]
  },
  {
   "cell_type": "code",
   "execution_count": 29,
   "id": "a4ece8d9-ed91-4b4e-802f-a6e260dc46b4",
   "metadata": {},
   "outputs": [],
   "source": [
    "spark.stop()"
   ]
  },
  {
   "cell_type": "code",
   "execution_count": null,
   "id": "e509b04d-32b3-4b17-ab4e-6ed025b09762",
   "metadata": {},
   "outputs": [],
   "source": []
  }
 ],
 "metadata": {
  "kernelspec": {
   "display_name": "Python 3 (ipykernel)",
   "language": "python",
   "name": "python3"
  },
  "language_info": {
   "codemirror_mode": {
    "name": "ipython",
    "version": 3
   },
   "file_extension": ".py",
   "mimetype": "text/x-python",
   "name": "python",
   "nbconvert_exporter": "python",
   "pygments_lexer": "ipython3",
   "version": "3.9.19"
  }
 },
 "nbformat": 4,
 "nbformat_minor": 5
}
